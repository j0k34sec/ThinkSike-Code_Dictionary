{
 "cells": [
  {
   "cell_type": "markdown",
   "id": "c8452cdf",
   "metadata": {},
   "source": [
    "### Finding element from a List"
   ]
  },
  {
   "cell_type": "code",
   "execution_count": 16,
   "id": "98062219",
   "metadata": {},
   "outputs": [
    {
     "name": "stdout",
     "output_type": "stream",
     "text": [
      "founding\n",
      "founding\n",
      "founding\n",
      "founding\n",
      "founding\n",
      "founding\n",
      "founding\n",
      "founding\n",
      "founding\n",
      "founding\n",
      "founding\n",
      "founding\n",
      "founding\n",
      "founding\n",
      "15 number found\n",
      "founding\n",
      "15 number found\n"
     ]
    }
   ],
   "source": [
    "number2 = [1, 2, 3, 4, 5, 6, 7, 8, 9, 10, 11, 12, 13, 14, 15, 11, 15]\n",
    "x = 15\n",
    "index1 = 0\n",
    "\n",
    "while index1 < len(number2):\n",
    "    if (number2[index1] == x):\n",
    "        print(x, \"number found\")\n",
    "    else:\n",
    "        print(\"founding\")\n",
    "    index1 += 1"
   ]
  },
  {
   "cell_type": "markdown",
   "id": "3a46fb56",
   "metadata": {},
   "source": [
    "### printing list value using while loop"
   ]
  },
  {
   "cell_type": "code",
   "execution_count": 17,
   "id": "8465d186",
   "metadata": {},
   "outputs": [
    {
     "name": "stdout",
     "output_type": "stream",
     "text": [
      "1\n",
      "2\n",
      "3\n",
      "4\n",
      "5\n",
      "6\n",
      "7\n",
      "8\n",
      "9\n",
      "10\n"
     ]
    }
   ],
   "source": [
    "list1 = [1, 2, 3, 4, 5, 6, 7, 8, 9, 10]\n",
    "index = 0\n",
    "\n",
    "while index < len(list1):\n",
    "    print(list1[index])\n",
    "    index += 1\n"
   ]
  },
  {
   "cell_type": "markdown",
   "id": "5546264b",
   "metadata": {},
   "source": [
    "### while loop"
   ]
  },
  {
   "cell_type": "code",
   "execution_count": null,
   "id": "3cfc8d77",
   "metadata": {},
   "outputs": [],
   "source": [
    "number1 = 1\n",
    "\n",
    "while number1 <= 100:\n",
    "    print(number1)\n",
    "    number1 += 1"
   ]
  },
  {
   "cell_type": "markdown",
   "id": "b9b81710",
   "metadata": {},
   "source": [
    "### For loop"
   ]
  },
  {
   "cell_type": "code",
   "execution_count": null,
   "id": "feec8d99",
   "metadata": {},
   "outputs": [],
   "source": [
    "list2 = [1, 2, 3, 4, 5, 6, 7, 8, 9, 10]\n",
    "for i in list2:\n",
    "    print(i)"
   ]
  },
  {
   "cell_type": "markdown",
   "id": "513e8f7d",
   "metadata": {},
   "source": [
    "### search for a number in the touple"
   ]
  },
  {
   "cell_type": "code",
   "execution_count": null,
   "id": "0b8429ef",
   "metadata": {},
   "outputs": [
    {
     "ename": "SyntaxError",
     "evalue": "invalid syntax (3132616197.py, line 9)",
     "output_type": "error",
     "traceback": [
      "  \u001b[36mCell\u001b[39m\u001b[36m \u001b[39m\u001b[32mIn[18]\u001b[39m\u001b[32m, line 9\u001b[39m\n\u001b[31m    \u001b[39m\u001b[31melse:\u001b[39m\n    ^\n\u001b[31mSyntaxError\u001b[39m\u001b[31m:\u001b[39m invalid syntax\n"
     ]
    }
   ],
   "source": [
    "touple = (1, 2, 3, 4, 5, 6, 7, 8, 9, 10, 19)\n",
    "\n",
    "idx = 0\n",
    "find = 19\n",
    "for i in touple:\n",
    "    if(i == find):\n",
    "        print(find, \"number found in \", idx)\n",
    "    else:\n",
    "        print(\"founding\")\n",
    "    idx += 1"
   ]
  }
 ],
 "metadata": {
  "kernelspec": {
   "display_name": "Python (venv)",
   "language": "python",
   "name": "venv"
  },
  "language_info": {
   "codemirror_mode": {
    "name": "ipython",
    "version": 3
   },
   "file_extension": ".py",
   "mimetype": "text/x-python",
   "name": "python",
   "nbconvert_exporter": "python",
   "pygments_lexer": "ipython3",
   "version": "3.13.5"
  }
 },
 "nbformat": 4,
 "nbformat_minor": 5
}
