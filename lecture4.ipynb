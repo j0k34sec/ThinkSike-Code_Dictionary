{
 "cells": [
  {
   "cell_type": "markdown",
   "id": "d1c584b3",
   "metadata": {},
   "source": [
    "### store word meaning in python dictonary"
   ]
  },
  {
   "cell_type": "code",
   "execution_count": null,
   "id": "137bcec6",
   "metadata": {},
   "outputs": [],
   "source": [
    "dic1 = {\n",
    "    \"name\" : \"suraj mondal\",\n",
    "    \"age\" : \"25\",\n",
    "    \"city\" : \"kolkata\",\n",
    "    \"country\" : \"india\"\n",
    "}\n",
    "\n",
    "print(\"his name is\",dic1[\"name\"], \"his age is \", dic1[\"age\"],\"he lives in\",dic1[\"city\"],dic1[\"country\"])"
   ]
  },
  {
   "cell_type": "markdown",
   "id": "6188405a",
   "metadata": {},
   "source": [
    "### finding largets number"
   ]
  },
  {
   "cell_type": "code",
   "execution_count": null,
   "id": "0b90b75a",
   "metadata": {},
   "outputs": [],
   "source": [
    "a = 5\n",
    "b = 10\n",
    "c = 3\n",
    "\n",
    "if(a > b and a > c):\n",
    "    print(a, \"is the greatet number\")\n",
    "elif(b > a and b > c):\n",
    "    print(b, \"is the biggest number\")\n",
    "else:\n",
    "    print(c, \"is the largest number\")\n"
   ]
  },
  {
   "cell_type": "markdown",
   "id": "8a0e8980",
   "metadata": {},
   "source": [
    "# age checking"
   ]
  },
  {
   "cell_type": "code",
   "execution_count": null,
   "id": "106ceb4d",
   "metadata": {},
   "outputs": [],
   "source": [
    "age = 17\n",
    "\n",
    "if(age >= 18):\n",
    "    if(age >= 80):\n",
    "        print(\"you cant drive car\")\n",
    "    else:\n",
    "        print(\"you can drive car\")\n",
    "else:\n",
    "    print(\"you cant drive car\")\n"
   ]
  },
  {
   "cell_type": "markdown",
   "id": "c90bd5ea",
   "metadata": {},
   "source": [
    "# checking id the number multiple with 7 or not"
   ]
  },
  {
   "cell_type": "code",
   "execution_count": null,
   "id": "0a3c243e",
   "metadata": {},
   "outputs": [],
   "source": [
    "multiple = 4\n",
    "\n",
    "if(multiple % 7 == 0):\n",
    "    print(multiple, \"is multiple with 7\")\n",
    "else:\n",
    "    print(multiple, \"is not multiple with 7\")"
   ]
  },
  {
   "cell_type": "markdown",
   "id": "ac48b9a8",
   "metadata": {},
   "source": [
    "# number even or ODD"
   ]
  },
  {
   "cell_type": "code",
   "execution_count": null,
   "id": "94af7b7a",
   "metadata": {},
   "outputs": [],
   "source": [
    "number = 1\n",
    "\n",
    "if(number % 2 == 0):\n",
    "    print(\"the number you gave is evem\")\n",
    "else:\n",
    "    print(\"the number you gave is odd\")\n"
   ]
  },
  {
   "cell_type": "code",
   "execution_count": null,
   "id": "66e48207",
   "metadata": {},
   "outputs": [],
   "source": [
    "test = int(input(\"enter a number: \"))\n",
    "print(\"the number you entered is\", test)"
   ]
  }
 ],
 "metadata": {
  "kernelspec": {
   "display_name": "Python (venv)",
   "language": "python",
   "name": "venv"
  },
  "language_info": {
   "codemirror_mode": {
    "name": "ipython",
    "version": 3
   },
   "file_extension": ".py",
   "mimetype": "text/x-python",
   "name": "python",
   "nbconvert_exporter": "python",
   "pygments_lexer": "ipython3",
   "version": "3.13.5"
  }
 },
 "nbformat": 4,
 "nbformat_minor": 5
}
